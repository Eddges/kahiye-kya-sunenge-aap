{
 "cells": [
  {
   "cell_type": "code",
   "execution_count": 1,
   "metadata": {},
   "outputs": [
    {
     "name": "stderr",
     "output_type": "stream",
     "text": [
      "Using TensorFlow backend.\n"
     ]
    }
   ],
   "source": [
    "import keras\n",
    "from keras.models import Sequential\n",
    "from keras.layers import Dense, Dropout, Flatten\n",
    "from keras.layers import Conv2D, MaxPooling2D\n",
    "from keras.utils import to_categorical\n",
    "from keras.preprocessing import image\n",
    "import numpy as np\n",
    "import pandas as pd\n",
    "import matplotlib.pyplot as plt\n",
    "from sklearn.model_selection import train_test_split\n",
    "from keras.utils import to_categorical\n",
    "from tqdm import tqdm\n",
    "from tqdm import tqdm_notebook\n",
    "import pickle"
   ]
  },
  {
   "cell_type": "code",
   "execution_count": 2,
   "metadata": {},
   "outputs": [],
   "source": [
    "pepper_train = pd.read_csv('data.csv')\n",
    "potato_train = pd.read_csv('potato_data.csv')\n",
    "tomato_train = pd.read_csv('tomato_data.csv')"
   ]
  },
  {
   "cell_type": "code",
   "execution_count": 3,
   "metadata": {},
   "outputs": [
    {
     "data": {
      "application/vnd.jupyter.widget-view+json": {
       "model_id": "cacd580a6b0f41619239265912482fd7",
       "version_major": 2,
       "version_minor": 0
      },
      "text/plain": [
       "HBox(children=(IntProgress(value=0, max=2473), HTML(value='')))"
      ]
     },
     "metadata": {},
     "output_type": "display_data"
    },
    {
     "name": "stdout",
     "output_type": "stream",
     "text": [
      "\n"
     ]
    },
    {
     "data": {
      "application/vnd.jupyter.widget-view+json": {
       "model_id": "e03857254b6f45bdb0513341bbef859d",
       "version_major": 2,
       "version_minor": 0
      },
      "text/plain": [
       "HBox(children=(IntProgress(value=0, max=2151), HTML(value='')))"
      ]
     },
     "metadata": {},
     "output_type": "display_data"
    },
    {
     "name": "stdout",
     "output_type": "stream",
     "text": [
      "\n"
     ]
    },
    {
     "data": {
      "application/vnd.jupyter.widget-view+json": {
       "model_id": "6e28b9d5693c4b92a3027a74428193ff",
       "version_major": 2,
       "version_minor": 0
      },
      "text/plain": [
       "HBox(children=(IntProgress(value=0, max=11977), HTML(value='')))"
      ]
     },
     "metadata": {},
     "output_type": "display_data"
    },
    {
     "name": "stdout",
     "output_type": "stream",
     "text": [
      "\n"
     ]
    }
   ],
   "source": [
    "pepper_train_image = []\n",
    "potato_train_image = []\n",
    "tomato_train_image = []\n",
    "\n",
    "for i in tqdm_notebook(range(1,pepper_train.shape[0]+1)):\n",
    "    #img = image.load_img('train/'+train['id'][i].astype('str')+'.png', target_size=(28,28,1), grayscale=True)\n",
    "    img = image.load_img(\"C:\\\\Users\\\\Nishit\\\\Desktop\\\\proj\\\\pepper\\\\(\"+str(i)+\")\"+\".jpg\" , target_size=(28,28,1), color_mode = \"grayscale\")\n",
    "    #img = image.load_img(\"C:\\\\Users\\\\Nishit\\\\Desktop\\\\proj\\\\pepper\\\\ (\"+str(i)+\")\" , target_size=(28,28,1), color_mode = \"grayscale\")\n",
    "    img = image.img_to_array(img)\n",
    "    img = img/255\n",
    "    pepper_train_image.append(img)\n",
    "X1 = np.array(pepper_train_image)\n",
    "\n",
    "for i in tqdm_notebook(range(1,potato_train.shape[0]+1)):\n",
    "    img = image.load_img(\"C:\\\\Users\\\\Nishit\\\\Desktop\\\\proj\\\\potato\\\\(\"+str(i)+\")\"+\".jpg\" , target_size=(28,28,1), color_mode = \"grayscale\")\n",
    "    img = image.img_to_array(img)\n",
    "    img = img/255\n",
    "    potato_train_image.append(img)\n",
    "X2 = np.array(potato_train_image)\n",
    "\n",
    "for i in tqdm_notebook(range(1,tomato_train.shape[0]+1)):\n",
    "    img = image.load_img(\"C:\\\\Users\\\\Nishit\\\\Desktop\\\\proj\\\\tomato\\\\(\"+str(i)+\")\"+\".jpg\" , target_size=(28,28,1), color_mode = \"grayscale\")\n",
    "    img = image.img_to_array(img)\n",
    "    img = img/255\n",
    "    tomato_train_image.append(img)\n",
    "X3 = np.array(tomato_train_image)"
   ]
  },
  {
   "cell_type": "code",
   "execution_count": null,
   "metadata": {},
   "outputs": [],
   "source": [
    "y1 = pepper_train.iloc[:,1:2].values\n",
    "y1 = to_categorical(y1)\n",
    "\n",
    "y2 = potato_train.iloc[:,1:2].values\n",
    "y2 = to_categorical(y2)\n",
    "\n",
    "y3 = tomato_train.iloc[:,1:2].values\n",
    "y3 = to_categorical(y3)"
   ]
  },
  {
   "cell_type": "code",
   "execution_count": null,
   "metadata": {},
   "outputs": [],
   "source": [
    "X1_train, X1_test, y1_train, y1_test = train_test_split(X1, y1, random_state=42, test_size=0.2)\n",
    "X2_train, X2_test, y2_train, y2_test = train_test_split(X2, y2, random_state=42, test_size=0.2)\n",
    "X3_train, X3_test, y3_train, y3_test = train_test_split(X3, y3, random_state=42, test_size=0.2)"
   ]
  },
  {
   "cell_type": "code",
   "execution_count": null,
   "metadata": {},
   "outputs": [],
   "source": [
    "model = Sequential()\n",
    "model.add(Conv2D(32, kernel_size=(3, 3),activation='relu',input_shape=(28,28,1)))\n",
    "model.add(Conv2D(64, (3, 3), activation='relu'))\n",
    "model.add(MaxPooling2D(pool_size=(2, 2)))\n",
    "model.add(Conv2D(64, (3, 3), activation='relu'))\n",
    "model.add(MaxPooling2D(pool_size=(2, 2)))\n",
    "\n",
    "model.add(Conv2D(64, (3, 3), activation='relu'))\n",
    "model.add(MaxPooling2D(pool_size=(2, 2)))\n",
    "model.add(Dropout(0.25))\n",
    "model.add(Flatten())\n",
    "model.add(Dense(128, activation='relu'))\n",
    "model.add(Dropout(0.5))\n",
    "model.add(Dense(2, activation='softmax'))"
   ]
  },
  {
   "cell_type": "code",
   "execution_count": null,
   "metadata": {},
   "outputs": [],
   "source": [
    "model.compile(loss='categorical_crossentropy',optimizer='Adam',metrics=['accuracy'])"
   ]
  },
  {
   "cell_type": "code",
   "execution_count": null,
   "metadata": {},
   "outputs": [],
   "source": [
    "def load_model():\n",
    "    filename_tomato='finalized_model_tomato.sav'\n",
    "    loaded_model_tomato=pickle.load(open(filename_tomato,'rb'))\n",
    "    filename_potato='finalized_model_potato.sav'\n",
    "    loaded_model_potato=pickle.load(open(filename_potato,'rb'))\n",
    "    filename_pepper='finalized_model_pepper.sav'\n",
    "    loaded_model_pepper=pickle.load(open(filename_pepper,'rb'))\n"
   ]
  },
  {
   "cell_type": "code",
   "execution_count": null,
   "metadata": {},
   "outputs": [],
   "source": [
    "pepper_test = np.array(X1_test)\n",
    "potato_test = np.array(X2_test)\n",
    "tomato_test = np.array(X3_test)"
   ]
  },
  {
   "cell_type": "code",
   "execution_count": null,
   "metadata": {},
   "outputs": [],
   "source": [
    "pepper_prediction = model.predict_classes(X1_test)\n",
    "potato_prediction = model.predict_classes(X2_test)\n",
    "tomato_prediction = model.predict_classes(X3_test)"
   ]
  },
  {
   "cell_type": "code",
   "execution_count": null,
   "metadata": {},
   "outputs": [],
   "source": [
    "pepper_scores = model.evaluate(X1_test, y1_test,verbose=1)#, batch_size=batch_size)\n",
    "potato_scores = model.evaluate(X2_test, y2_test,verbose=1)\n",
    "tomato_scores = model.evaluate(X3_test, y3_test,verbose=1)"
   ]
  },
  {
   "cell_type": "code",
   "execution_count": null,
   "metadata": {},
   "outputs": [],
   "source": [
    "tomato_scores"
   ]
  },
  {
   "cell_type": "code",
   "execution_count": null,
   "metadata": {},
   "outputs": [],
   "source": [
    "import flask"
   ]
  },
  {
   "cell_type": "code",
   "execution_count": null,
   "metadata": {},
   "outputs": [],
   "source": [
    "app=flask.Flask(__name__)\n"
   ]
  },
  {
   "cell_type": "code",
   "execution_count": null,
   "metadata": {},
   "outputs": [],
   "source": [
    "def prepare_image(image, target): \n",
    "    if image.mode != \"RGB\": \n",
    "        image = image.convert(\"RGB\") \n",
    "      \n",
    "    # Resize the image to the target dimensions \n",
    "    image = image.resize(target)  \n",
    "      \n",
    "    # PIL Image to Numpy array \n",
    "    image = img_to_array(image)  \n",
    "      \n",
    "    # Expand the shape of an array, \n",
    "    # as required by the Model \n",
    "    image = np.expand_dims(image, axis = 0)  \n",
    "      \n",
    "    # preprocess_input function is meant to \n",
    "    # adequate your image to the format the model requires \n",
    "    image = imagenet_utils.preprocess_input(image)  \n",
    "  \n",
    "    # return the processed image \n",
    "    return image "
   ]
  },
  {
   "cell_type": "code",
   "execution_count": null,
   "metadata": {},
   "outputs": [],
   "source": [
    "@app.route(\"/predict\",methods =[\"POST\"])\n",
    "def predict():\n",
    "    date= {\"success\":False}\n",
    "    # Check if image was properly sent to our endpoint \n",
    "    if flask.request.method == \"POST\": \n",
    "        if flask.request.files.get(\"image\"): \n",
    "            image = flask.request.files[\"image\"].read() \n",
    "            image = Image.open(io.BytesIO(image)) \n",
    "  \n",
    "            # Resize it to 224x224 pixels  \n",
    "            # (required input dimensions for ResNet) \n",
    "            image = prepare_image(image, target =(224, 224)) \n",
    "  \n",
    "        # Predict ! global preds, results \n",
    "            with graph.as_default(): \n",
    "                #preds = model.predict(image) \n",
    "                tomato_prediction = model_tomato.predict_classes(image)\n",
    "                potato_prediction = model_potato.predict_classes(image)\n",
    "                pepper_prediction = model_pepper.predict_classes(image)\n",
    "                \n",
    "                results = imagenet_utils.decode_predictions(preds) \n",
    "                data[\"predictions\"]= [] \n",
    "  \n",
    "          \n",
    "            for (ID, label, probability) in results[0]: \n",
    "                r = {\"label\": label, \"probability\": float(probability)} \n",
    "                data[\"predictions\"].append(r) \n",
    "  \n",
    "            data[\"success\"] = True\n",
    "  \n",
    "    # return JSON response \n",
    "    return flask.jsonify(data) \n"
   ]
  },
  {
   "cell_type": "code",
   "execution_count": null,
   "metadata": {},
   "outputs": [],
   "source": [
    "if __name__ == \"__main__\": \n",
    "    print((\"* Loading Keras model and Flask starting server...\"\n",
    "        \"please wait until server has fully started\")) \n",
    "    load_model() \n",
    "    app.run() "
   ]
  }
 ],
 "metadata": {
  "kernelspec": {
   "display_name": "Python 3",
   "language": "python",
   "name": "python3"
  },
  "language_info": {
   "codemirror_mode": {
    "name": "ipython",
    "version": 3
   },
   "file_extension": ".py",
   "mimetype": "text/x-python",
   "name": "python",
   "nbconvert_exporter": "python",
   "pygments_lexer": "ipython3",
   "version": "3.7.0"
  }
 },
 "nbformat": 4,
 "nbformat_minor": 2
}
