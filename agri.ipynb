{
 "cells": [
  {
   "cell_type": "code",
   "execution_count": 1,
   "metadata": {},
   "outputs": [],
   "source": [
    "import pickle"
   ]
  },
  {
   "cell_type": "code",
   "execution_count": 2,
   "metadata": {},
   "outputs": [
    {
     "name": "stderr",
     "output_type": "stream",
     "text": [
      "Using TensorFlow backend.\n"
     ]
    }
   ],
   "source": [
    "import keras\n",
    "from keras.models import Sequential\n",
    "from keras.layers import Dense, Dropout, Flatten\n",
    "from keras.layers import Conv2D, MaxPooling2D\n",
    "from keras.utils import to_categorical\n",
    "from keras.preprocessing import image\n",
    "import numpy as np\n",
    "import pandas as pd\n",
    "import matplotlib.pyplot as plt\n",
    "from sklearn.model_selection import train_test_split\n",
    "from keras.utils import to_categorical\n",
    "from tqdm import tqdm\n",
    "from tqdm import tqdm_notebook\n"
   ]
  },
  {
   "cell_type": "code",
   "execution_count": 3,
   "metadata": {},
   "outputs": [],
   "source": [
    "pepper_train = pd.read_csv('data.csv')\n",
    "potato_train = pd.read_csv('potato_data.csv')\n",
    "tomato_train = pd.read_csv('tomato_data.csv')"
   ]
  },
  {
   "cell_type": "code",
   "execution_count": 4,
   "metadata": {},
   "outputs": [
    {
     "data": {
      "text/html": [
       "<div>\n",
       "<style scoped>\n",
       "    .dataframe tbody tr th:only-of-type {\n",
       "        vertical-align: middle;\n",
       "    }\n",
       "\n",
       "    .dataframe tbody tr th {\n",
       "        vertical-align: top;\n",
       "    }\n",
       "\n",
       "    .dataframe thead th {\n",
       "        text-align: right;\n",
       "    }\n",
       "</style>\n",
       "<table border=\"1\" class=\"dataframe\">\n",
       "  <thead>\n",
       "    <tr style=\"text-align: right;\">\n",
       "      <th></th>\n",
       "      <th>C:\\Users\\Nishit\\Desktop\\proj\\pepper\\(1).jpg</th>\n",
       "      <th>1</th>\n",
       "    </tr>\n",
       "  </thead>\n",
       "  <tbody>\n",
       "    <tr>\n",
       "      <th>0</th>\n",
       "      <td>C:\\Users\\Nishit\\Desktop\\proj\\pepper\\(10).jpg</td>\n",
       "      <td>1</td>\n",
       "    </tr>\n",
       "    <tr>\n",
       "      <th>1</th>\n",
       "      <td>C:\\Users\\Nishit\\Desktop\\proj\\pepper\\(100).jpg</td>\n",
       "      <td>1</td>\n",
       "    </tr>\n",
       "    <tr>\n",
       "      <th>2</th>\n",
       "      <td>C:\\Users\\Nishit\\Desktop\\proj\\pepper\\(1000).JPG</td>\n",
       "      <td>1</td>\n",
       "    </tr>\n",
       "    <tr>\n",
       "      <th>3</th>\n",
       "      <td>C:\\Users\\Nishit\\Desktop\\proj\\pepper\\(1001).JPG</td>\n",
       "      <td>1</td>\n",
       "    </tr>\n",
       "    <tr>\n",
       "      <th>4</th>\n",
       "      <td>C:\\Users\\Nishit\\Desktop\\proj\\pepper\\(1002).JPG</td>\n",
       "      <td>1</td>\n",
       "    </tr>\n",
       "  </tbody>\n",
       "</table>\n",
       "</div>"
      ],
      "text/plain": [
       "      C:\\Users\\Nishit\\Desktop\\proj\\pepper\\(1).jpg  1\n",
       "0    C:\\Users\\Nishit\\Desktop\\proj\\pepper\\(10).jpg  1\n",
       "1   C:\\Users\\Nishit\\Desktop\\proj\\pepper\\(100).jpg  1\n",
       "2  C:\\Users\\Nishit\\Desktop\\proj\\pepper\\(1000).JPG  1\n",
       "3  C:\\Users\\Nishit\\Desktop\\proj\\pepper\\(1001).JPG  1\n",
       "4  C:\\Users\\Nishit\\Desktop\\proj\\pepper\\(1002).JPG  1"
      ]
     },
     "execution_count": 4,
     "metadata": {},
     "output_type": "execute_result"
    }
   ],
   "source": [
    "pepper_train.head()"
   ]
  },
  {
   "cell_type": "code",
   "execution_count": 5,
   "metadata": {},
   "outputs": [
    {
     "data": {
      "application/vnd.jupyter.widget-view+json": {
       "model_id": "cb1828ba427b4714b01f26b05e178aed",
       "version_major": 2,
       "version_minor": 0
      },
      "text/plain": [
       "HBox(children=(IntProgress(value=0, max=2473), HTML(value='')))"
      ]
     },
     "metadata": {},
     "output_type": "display_data"
    },
    {
     "name": "stdout",
     "output_type": "stream",
     "text": [
      "\n"
     ]
    },
    {
     "data": {
      "application/vnd.jupyter.widget-view+json": {
       "model_id": "5ddbc08db0ff40ca88f0884b167e5026",
       "version_major": 2,
       "version_minor": 0
      },
      "text/plain": [
       "HBox(children=(IntProgress(value=0, max=2151), HTML(value='')))"
      ]
     },
     "metadata": {},
     "output_type": "display_data"
    },
    {
     "name": "stdout",
     "output_type": "stream",
     "text": [
      "\n"
     ]
    },
    {
     "data": {
      "application/vnd.jupyter.widget-view+json": {
       "model_id": "12eb0f8018ff441797a62ef591e05e36",
       "version_major": 2,
       "version_minor": 0
      },
      "text/plain": [
       "HBox(children=(IntProgress(value=0, max=11977), HTML(value='')))"
      ]
     },
     "metadata": {},
     "output_type": "display_data"
    },
    {
     "name": "stdout",
     "output_type": "stream",
     "text": [
      "\n"
     ]
    }
   ],
   "source": [
    "pepper_train_image = []\n",
    "potato_train_image = []\n",
    "tomato_train_image = []\n",
    "\n",
    "for i in tqdm_notebook(range(1,pepper_train.shape[0]+1)):\n",
    "    #img = image.load_img('train/'+train['id'][i].astype('str')+'.png', target_size=(28,28,1), grayscale=True)\n",
    "    img = image.load_img(\"C:\\\\Users\\\\Nishit\\\\Desktop\\\\proj\\\\pepper\\\\(\"+str(i)+\")\"+\".jpg\" , target_size=(28,28,1), color_mode = \"grayscale\")\n",
    "    #img = image.load_img(\"C:\\\\Users\\\\Nishit\\\\Desktop\\\\proj\\\\pepper\\\\ (\"+str(i)+\")\" , target_size=(28,28,1), color_mode = \"grayscale\")\n",
    "    img = image.img_to_array(img)\n",
    "    img = img/255\n",
    "    pepper_train_image.append(img)\n",
    "X1 = np.array(pepper_train_image)\n",
    "\n",
    "for i in tqdm_notebook(range(1,potato_train.shape[0]+1)):\n",
    "    img = image.load_img(\"C:\\\\Users\\\\Nishit\\\\Desktop\\\\proj\\\\potato\\\\(\"+str(i)+\")\"+\".jpg\" , target_size=(28,28,1), color_mode = \"grayscale\")\n",
    "    img = image.img_to_array(img)\n",
    "    img = img/255\n",
    "    potato_train_image.append(img)\n",
    "X2 = np.array(potato_train_image)\n",
    "\n",
    "for i in tqdm_notebook(range(1,tomato_train.shape[0]+1)):\n",
    "    img = image.load_img(\"C:\\\\Users\\\\Nishit\\\\Desktop\\\\proj\\\\tomato\\\\(\"+str(i)+\")\"+\".jpg\" , target_size=(28,28,1), color_mode = \"grayscale\")\n",
    "    img = image.img_to_array(img)\n",
    "    img = img/255\n",
    "    tomato_train_image.append(img)\n",
    "X3 = np.array(tomato_train_image)"
   ]
  },
  {
   "cell_type": "code",
   "execution_count": 6,
   "metadata": {},
   "outputs": [],
   "source": [
    "y1 = pepper_train.iloc[:,1:2].values\n",
    "y1 = to_categorical(y1)\n",
    "\n",
    "y2 = potato_train.iloc[:,1:2].values\n",
    "y2 = to_categorical(y2)\n",
    "\n",
    "y3 = tomato_train.iloc[:,1:2].values\n",
    "y3 = to_categorical(y3)"
   ]
  },
  {
   "cell_type": "code",
   "execution_count": 7,
   "metadata": {},
   "outputs": [],
   "source": [
    "X1_train, X1_test, y1_train, y1_test = train_test_split(X1, y1, random_state=42, test_size=0.2)\n",
    "X2_train, X2_test, y2_train, y2_test = train_test_split(X2, y2, random_state=42, test_size=0.2)\n",
    "X3_train, X3_test, y3_train, y3_test = train_test_split(X3, y3, random_state=42, test_size=0.2)"
   ]
  },
  {
   "cell_type": "code",
   "execution_count": 8,
   "metadata": {},
   "outputs": [
    {
     "name": "stderr",
     "output_type": "stream",
     "text": [
      "WARNING: Logging before flag parsing goes to stderr.\n",
      "W0623 19:33:33.514476 18476 deprecation_wrapper.py:119] From C:\\Users\\Nishit\\Anaconda3\\lib\\site-packages\\keras\\backend\\tensorflow_backend.py:74: The name tf.get_default_graph is deprecated. Please use tf.compat.v1.get_default_graph instead.\n",
      "\n",
      "W0623 19:33:33.551580 18476 deprecation_wrapper.py:119] From C:\\Users\\Nishit\\Anaconda3\\lib\\site-packages\\keras\\backend\\tensorflow_backend.py:517: The name tf.placeholder is deprecated. Please use tf.compat.v1.placeholder instead.\n",
      "\n",
      "W0623 19:33:33.563293 18476 deprecation_wrapper.py:119] From C:\\Users\\Nishit\\Anaconda3\\lib\\site-packages\\keras\\backend\\tensorflow_backend.py:4138: The name tf.random_uniform is deprecated. Please use tf.random.uniform instead.\n",
      "\n",
      "W0623 19:33:33.632611 18476 deprecation_wrapper.py:119] From C:\\Users\\Nishit\\Anaconda3\\lib\\site-packages\\keras\\backend\\tensorflow_backend.py:3976: The name tf.nn.max_pool is deprecated. Please use tf.nn.max_pool2d instead.\n",
      "\n",
      "W0623 19:33:33.719506 18476 deprecation_wrapper.py:119] From C:\\Users\\Nishit\\Anaconda3\\lib\\site-packages\\keras\\backend\\tensorflow_backend.py:133: The name tf.placeholder_with_default is deprecated. Please use tf.compat.v1.placeholder_with_default instead.\n",
      "\n",
      "W0623 19:33:33.757589 18476 deprecation.py:506] From C:\\Users\\Nishit\\Anaconda3\\lib\\site-packages\\keras\\backend\\tensorflow_backend.py:3445: calling dropout (from tensorflow.python.ops.nn_ops) with keep_prob is deprecated and will be removed in a future version.\n",
      "Instructions for updating:\n",
      "Please use `rate` instead of `keep_prob`. Rate should be set to `rate = 1 - keep_prob`.\n"
     ]
    }
   ],
   "source": [
    "model_tomato = Sequential()\n",
    "model_tomato.add(Conv2D(32, kernel_size=(3, 3),activation='relu',input_shape=(28,28,1)))\n",
    "model_tomato.add(Conv2D(64, (3, 3), activation='relu'))\n",
    "model_tomato.add(MaxPooling2D(pool_size=(2, 2)))\n",
    "model_tomato.add(Conv2D(64, (3, 3), activation='relu'))\n",
    "model_tomato.add(MaxPooling2D(pool_size=(2, 2)))\n",
    "\n",
    "model_tomato.add(Conv2D(64, (3, 3), activation='relu'))\n",
    "model_tomato.add(MaxPooling2D(pool_size=(2, 2)))\n",
    "model_tomato.add(Dropout(0.25))\n",
    "model_tomato.add(Flatten())\n",
    "model_tomato.add(Dense(128, activation='relu'))\n",
    "model_tomato.add(Dropout(0.5))\n",
    "model_tomato.add(Dense(2, activation='softmax'))"
   ]
  },
  {
   "cell_type": "code",
   "execution_count": 9,
   "metadata": {},
   "outputs": [
    {
     "name": "stderr",
     "output_type": "stream",
     "text": [
      "W0623 19:33:35.021553 18476 deprecation_wrapper.py:119] From C:\\Users\\Nishit\\Anaconda3\\lib\\site-packages\\keras\\optimizers.py:790: The name tf.train.Optimizer is deprecated. Please use tf.compat.v1.train.Optimizer instead.\n",
      "\n",
      "W0623 19:33:35.067445 18476 deprecation_wrapper.py:119] From C:\\Users\\Nishit\\Anaconda3\\lib\\site-packages\\keras\\backend\\tensorflow_backend.py:3295: The name tf.log is deprecated. Please use tf.math.log instead.\n",
      "\n"
     ]
    }
   ],
   "source": [
    "model_tomato.compile(loss='categorical_crossentropy',optimizer='Adam',metrics=['accuracy'])"
   ]
  },
  {
   "cell_type": "code",
   "execution_count": 10,
   "metadata": {},
   "outputs": [],
   "source": [
    "model_potato = Sequential()\n",
    "model_potato.add(Conv2D(32, kernel_size=(3, 3),activation='relu',input_shape=(28,28,1)))\n",
    "model_potato.add(Conv2D(64, (3, 3), activation='relu'))\n",
    "model_potato.add(MaxPooling2D(pool_size=(2, 2)))\n",
    "model_potato.add(Conv2D(64, (3, 3), activation='relu'))\n",
    "model_potato.add(MaxPooling2D(pool_size=(2, 2)))\n",
    "\n",
    "model_potato.add(Conv2D(64, (3, 3), activation='relu'))\n",
    "model_potato.add(MaxPooling2D(pool_size=(2, 2)))\n",
    "model_potato.add(Dropout(0.25))\n",
    "model_potato.add(Flatten())\n",
    "model_potato.add(Dense(128, activation='relu'))\n",
    "model_potato.add(Dropout(0.5))\n",
    "model_potato.add(Dense(2, activation='softmax'))"
   ]
  },
  {
   "cell_type": "code",
   "execution_count": 11,
   "metadata": {},
   "outputs": [],
   "source": [
    "model_potato.compile(loss='categorical_crossentropy',optimizer='Adam',metrics=['accuracy'])"
   ]
  },
  {
   "cell_type": "code",
   "execution_count": 12,
   "metadata": {},
   "outputs": [],
   "source": [
    "model_pepper = Sequential()\n",
    "model_pepper.add(Conv2D(32, kernel_size=(3, 3),activation='relu',input_shape=(28,28,1)))\n",
    "model_pepper.add(Conv2D(64, (3, 3), activation='relu'))\n",
    "model_pepper.add(MaxPooling2D(pool_size=(2, 2)))\n",
    "model_pepper.add(Conv2D(64, (3, 3), activation='relu'))\n",
    "model_pepper.add(MaxPooling2D(pool_size=(2, 2)))\n",
    "\n",
    "model_pepper.add(Conv2D(64, (3, 3), activation='relu'))\n",
    "model_pepper.add(MaxPooling2D(pool_size=(2, 2)))\n",
    "model_pepper.add(Dropout(0.25))\n",
    "model_pepper.add(Flatten())\n",
    "model_pepper.add(Dense(128, activation='relu'))\n",
    "model_pepper.add(Dropout(0.5))\n",
    "model_pepper.add(Dense(2, activation='softmax'))"
   ]
  },
  {
   "cell_type": "code",
   "execution_count": 13,
   "metadata": {},
   "outputs": [],
   "source": [
    "model_pepper.compile(loss='categorical_crossentropy',optimizer='Adam',metrics=['accuracy'])"
   ]
  },
  {
   "cell_type": "code",
   "execution_count": 14,
   "metadata": {},
   "outputs": [
    {
     "data": {
      "application/vnd.jupyter.widget-view+json": {
       "model_id": "099fad8771664f48914bce390a512097",
       "version_major": 2,
       "version_minor": 0
      },
      "text/plain": [
       "HBox(children=(IntProgress(value=0, max=50), HTML(value='')))"
      ]
     },
     "metadata": {},
     "output_type": "display_data"
    },
    {
     "name": "stderr",
     "output_type": "stream",
     "text": [
      "W0623 19:33:41.676570 18476 deprecation.py:323] From C:\\Users\\Nishit\\Anaconda3\\lib\\site-packages\\tensorflow\\python\\ops\\math_grad.py:1250: add_dispatch_support.<locals>.wrapper (from tensorflow.python.ops.array_ops) is deprecated and will be removed in a future version.\n",
      "Instructions for updating:\n",
      "Use tf.where in 2.0, which has the same broadcast rule as np.where\n"
     ]
    },
    {
     "name": "stdout",
     "output_type": "stream",
     "text": [
      "\n"
     ]
    },
    {
     "data": {
      "application/vnd.jupyter.widget-view+json": {
       "model_id": "6b4f8b2d3b674a1b99096740804d5157",
       "version_major": 2,
       "version_minor": 0
      },
      "text/plain": [
       "HBox(children=(IntProgress(value=0, max=20), HTML(value='')))"
      ]
     },
     "metadata": {},
     "output_type": "display_data"
    },
    {
     "name": "stdout",
     "output_type": "stream",
     "text": [
      "\n"
     ]
    },
    {
     "data": {
      "application/vnd.jupyter.widget-view+json": {
       "model_id": "56d2116b82c34eb68e6a7e37f278591c",
       "version_major": 2,
       "version_minor": 0
      },
      "text/plain": [
       "HBox(children=(IntProgress(value=0, max=5), HTML(value='')))"
      ]
     },
     "metadata": {},
     "output_type": "display_data"
    },
    {
     "name": "stdout",
     "output_type": "stream",
     "text": [
      "\n"
     ]
    }
   ],
   "source": [
    "for i in tqdm_notebook(range(50)):\n",
    "    model_tomato.fit(X1, y1, epochs=1,verbose=False, validation_data=(X1_test, y1_test))\n",
    "for i in tqdm_notebook(range(20)):\n",
    "    model_potato.fit(X2, y2, epochs=1,verbose=False, validation_data=(X2_test, y2_test))\n",
    "for i in tqdm_notebook(range(5)):\n",
    "    model_pepper.fit(X3, y3, epochs=1,verbose=False, validation_data=(X3_test, y3_test))"
   ]
  },
  {
   "cell_type": "code",
   "execution_count": null,
   "metadata": {},
   "outputs": [],
   "source": [
    "filename_tomato= 'finalized_model_tomato.sav'\n",
    "pickle.dump(model_tomato,open(filename,\"wb\"))"
   ]
  },
  {
   "cell_type": "code",
   "execution_count": null,
   "metadata": {},
   "outputs": [],
   "source": [
    "filename_potato= 'finalized_model_potato.sav'\n",
    "pickle.dump(model_potato,open(filename,\"wb\"))"
   ]
  },
  {
   "cell_type": "code",
   "execution_count": null,
   "metadata": {},
   "outputs": [],
   "source": [
    "filename_pepper= 'finalized_model_pepper.sav'\n",
    "pickle.dump(model_pepper,open(filename,\"wb\"))"
   ]
  },
  {
   "cell_type": "code",
   "execution_count": null,
   "metadata": {},
   "outputs": [],
   "source": []
  },
  {
   "cell_type": "code",
   "execution_count": null,
   "metadata": {},
   "outputs": [],
   "source": []
  },
  {
   "cell_type": "code",
   "execution_count": null,
   "metadata": {},
   "outputs": [],
   "source": [
    "pepper_test = np.array(X1_test)\n",
    "potato_test = np.array(X2_test)\n",
    "tomato_test = np.array(X3_test)"
   ]
  },
  {
   "cell_type": "code",
   "execution_count": null,
   "metadata": {},
   "outputs": [],
   "source": [
    "pepper_prediction = model_pepper.predict_classes(X1_test)\n",
    "potato_prediction = model_tomato.predict_classes(X2_test)\n",
    "tomato_prediction = model_potato.predict_classes(X3_test)"
   ]
  },
  {
   "cell_type": "code",
   "execution_count": null,
   "metadata": {},
   "outputs": [],
   "source": [
    "pepper_scores = model.evaluate(X1_test, y1_test,verbose=1)#, batch_size=batch_size)\n",
    "potato_scores = model.evaluate(X2_test, y2_test,verbose=1)\n",
    "tomato_scores = model.evaluate(X3_test, y3_test,verbose=1)"
   ]
  },
  {
   "cell_type": "code",
   "execution_count": null,
   "metadata": {},
   "outputs": [],
   "source": [
    "tomato_scores"
   ]
  },
  {
   "cell_type": "code",
   "execution_count": null,
   "metadata": {},
   "outputs": [],
   "source": [
    "potato_scores"
   ]
  },
  {
   "cell_type": "code",
   "execution_count": null,
   "metadata": {},
   "outputs": [],
   "source": [
    "pepper_scores"
   ]
  },
  {
   "cell_type": "code",
   "execution_count": null,
   "metadata": {},
   "outputs": [],
   "source": [
    "result1 = imagenet_utils.decode_predictions(pepper_prediction) \n",
    "result2 = imagenet_utils.decode_predictions(tomato_prediction) \n",
    "result3 = imagenet_utils.decode_predictions(potato_prediction) "
   ]
  },
  {
   "cell_type": "code",
   "execution_count": null,
   "metadata": {},
   "outputs": [],
   "source": [
    "result1\n",
    "result2\n",
    "result3"
   ]
  }
 ],
 "metadata": {
  "kernelspec": {
   "display_name": "Python 3",
   "language": "python",
   "name": "python3"
  },
  "language_info": {
   "codemirror_mode": {
    "name": "ipython",
    "version": 3
   },
   "file_extension": ".py",
   "mimetype": "text/x-python",
   "name": "python",
   "nbconvert_exporter": "python",
   "pygments_lexer": "ipython3",
   "version": "3.7.0"
  }
 },
 "nbformat": 4,
 "nbformat_minor": 2
}
